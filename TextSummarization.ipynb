{
 "cells": [
  {
   "cell_type": "code",
   "execution_count": 2,
   "id": "d09c8453",
   "metadata": {},
   "outputs": [
    {
     "name": "stderr",
     "output_type": "stream",
     "text": [
      "[nltk_data] Downloading package punkt to\n",
      "[nltk_data]     C:\\Users\\HP\\AppData\\Roaming\\nltk_data...\n",
      "[nltk_data]   Unzipping tokenizers\\punkt.zip.\n"
     ]
    },
    {
     "data": {
      "text/plain": [
       "True"
      ]
     },
     "execution_count": 2,
     "metadata": {},
     "output_type": "execute_result"
    }
   ],
   "source": [
    "import torch\n",
    "from transformers import T5ForConditionalGeneration, T5Tokenizer\n",
    "import re\n",
    "import nltk\n",
    "from nltk.tokenize import sent_tokenize, word_tokenize\n",
    "nltk.download('punkt')"
   ]
  },
  {
   "cell_type": "code",
   "execution_count": 3,
   "id": "2d456840",
   "metadata": {},
   "outputs": [],
   "source": [
    "def install_packages():\n",
    "    try:\n",
    "        import torch\n",
    "        import transformers\n",
    "    except ImportError:\n",
    "        import subprocess\n",
    "        import sys\n",
    "        subprocess.check_call([sys.executable, \"-m\", \"pip\", \"install\", \"torch\", \"transformers\"])\n",
    "        import torch\n",
    "        import transformers\n",
    "\n",
    "install_packages()"
   ]
  },
  {
   "cell_type": "code",
   "execution_count": 4,
   "id": "3da4e6d5",
   "metadata": {},
   "outputs": [],
   "source": [
    "def load_model(model_name=\"t5-small\"):\n",
    "    try:\n",
    "        tokenizer = T5Tokenizer.from_pretrained(model_name)\n",
    "        model = T5ForConditionalGeneration.from_pretrained(model_name)\n",
    "        return tokenizer, model\n",
    "    except Exception as e:\n",
    "        print(f\"Failed to load model: {e}\")\n",
    "        return None, None"
   ]
  },
  {
   "cell_type": "code",
   "execution_count": 13,
   "id": "8e403b6c",
   "metadata": {},
   "outputs": [],
   "source": [
    "def correct_text_format(text):\n",
    "    text = text.strip()\n",
    "    sentences = sent_tokenize(text)\n",
    "    corrected_sentences = []\n",
    "    for sentence in sentences:\n",
    "        words = word_tokenize(sentence)\n",
    "        if words:\n",
    "            words[0] = words[0].capitalize()\n",
    "        corrected_sentences.append(\" \".join(words))\n",
    "    return \" \".join(corrected_sentences)"
   ]
  },
  {
   "cell_type": "code",
   "execution_count": 14,
   "id": "ee20a267",
   "metadata": {},
   "outputs": [],
   "source": [
    "def summarize_text(text, tokenizer, model, max_length=200, min_length=50):\n",
    "    if not text.strip():\n",
    "        return \"Error: Input text is empty.\"\n",
    "    \n",
    "    text = correct_text_format(text)\n",
    "    input_ids = tokenizer.encode(\"summarize: \" + text, return_tensors=\"pt\", max_length=512, truncation=True)\n",
    "    summary_ids = model.generate(input_ids, max_length=max_length, min_length=min_length, length_penalty=2.0, num_beams=5, early_stopping=True)\n",
    "    summary = tokenizer.decode(summary_ids[0], skip_special_tokens=True)\n",
    "    return correct_text_format(summary)"
   ]
  },
  {
   "cell_type": "code",
   "execution_count": 15,
   "id": "6a7d5a01",
   "metadata": {},
   "outputs": [],
   "source": [
    "def summarize_batch(texts, tokenizer, model):\n",
    "    return [summarize_text(correct_text_format(text), tokenizer, model) for text in texts]"
   ]
  },
  {
   "cell_type": "code",
   "execution_count": 16,
   "id": "a72fbdaa",
   "metadata": {},
   "outputs": [],
   "source": [
    "tokenizer, model = load_model()"
   ]
  },
  {
   "cell_type": "code",
   "execution_count": 17,
   "id": "1d0dcb1c",
   "metadata": {},
   "outputs": [
    {
     "name": "stdout",
     "output_type": "stream",
     "text": [
      "Enter text to summarize: The Aztec people are originally from the central part of Mexico. They were most known for their political power and the use of the war drums in battle they posed the Mesoamerica in the 15th and 16th centuries (Skidmore & Smith pp 28). Today they are found in the island of Lake Tex coco and are renowned by their Aztec triple alliance or the Aztec empire.  This was conquered in 1521 by the Spanish hence the fall of the empire (Skidmore & Smith pp 29). Their musical power was due to their strong and complex religious (with more than 100 gods) stands, as well as the great architecture and art work.  Songs and poetry were highly regarded to a point of competing on which were the best in this field. Their music also had some incorporation of the African music from the African slaves as well as the Salvadoran music from Mexico.  Their songs included religious songs for their gods in praises for them, an encouragement to fellow Latin friends to be committed to the religion, festive songs and songs describing their rural lives. Politics and political leaders were not left out in this work.  Children songs were taught by the parents and at schools educative and motivational songs were done as the Aztec were among the first people to force all children to well organized groups for learning although the boys learned separately from the girls learning separate courses their music also portrayed different messages according to issues learned.  For example the boys learned war songs as they undertook their military training while the girls learned lullabies as the undertook their child care trainings. Other types of songs included the secular (for instance love songs), work and historic songs (Boone, Elizabeth H. pp 55).  Their music was used in various occasions the first instance been the festivals where competitions were done. The most striking occasion where music was presented was during the human sacrifice of slaves where they justified the act by stating that the sacrifices were a way of eliminating the enemy’s warriors.  Just as the European would kill the enemies in battle field during the battle for the Aztec they were to capture them and kill them after the battle (Boone, Elizabeth H. pp 79). During this time they portrayed their creative arts as well as the great variation of music and musical instruments.  These rituals also included cannibalism. In their most commonly known sport: tlachtili (Mesoamerica ball game), music was always used in the cheering as well as for congratulating the winners (Berdan, Frances F pp 70).  Another occasion when the songs were done was during the child delivery event and baby shower hence in a form of a naming occasion. There was music in the times of funerals and upon the judgment of an offender in their Government system.  The several instruments used produced different types of notes as well as a variation in pitch. Since it is this form of music that later developed into the present rock, jazz, reggae and heavy metal kind of music it clearly portrays the great diversity of the Aztec music.  This can be attributed to the fusion aspect of the music. The Original Aztec music was violent and fast in case of war and sacrifices, soft and soberly in the case of work songs, funerals, lullabies and judgments.  Their songs were among the first to have incidences of syllables as they depended on the instruments used and the different blends used. Like the current Spanish music with a ten line piece of eight syllable each, the Latin music had such a foundation and origin.  It gives the basis for music like rumba in Cuban, samba in Brazil, bomba and marimba from Ecuadorian. The foundation of the Aztec music is a combination of African musical rhymes as well as the gypsy from the Romans. The music incorporates the syncopation technique where the weak beats are accented instead of the strong ones(Berdan, Frances F pp 69).  Rhythm in music is an aspect of African music borrowed to the Latin music and is shown by use of percussion instruments. The other borrowed aspect is where verbal and non verbal communication between the singer and the audience is incorporated. The acting or drama aspect is also a key aspect to the Aztec music and involves use of different tones by the different musical instruments used.  All this gave their songs a very unique sound and style. The sound of the song was basically determined by the instruments played.  This therefore explains the keys and notes used their instruments were mainly high pitched to produce high pitches with a very soft sound in the times of conversation and respond by the singer and audience respectively. All their instruments had a five scale notes of the sea shell. This was natural and no one ever taught or wrote for them any scales to use. Some instruments like the flute called cocochitli made a buzzing sound of the bees.  The instruments used by the Aztec people were mainly primitive and fall on the percussion and wind categories. Very little or no string instruments were used. They were commonly known for their teponaztli and Huitzilopochtli (snake skinned) drums and very unique percussion instrument from the tortoise shell called the “ayoti” as well as one from the deer’s bones called the omichicauaztli. Ayacahtli was a stone and pebble filled gourd used in percussion.  The wind instruments like whistles, flutes, pipes, rattles and ocarinas were made from shells, bones and clay works. Copper and large gourds were used to make the trumpet like tepuzquiquiztli (Aztec Indians).\n",
      "\n",
      "Generated Summary: The Aztec people are originally from the central part of Mexico . They were most known for their political power and the use of the war drums in battle they posed the Mesoamerica in the 15th and 16th centuries . Today they are found in the island of Lake Tex coco and are renowned by their Aztec triple alliance or the Aztec empire .\n"
     ]
    }
   ],
   "source": [
    "if tokenizer and model:\n",
    "    user_input = input(\"Enter text to summarize: \")\n",
    "    formatted_input = correct_text_format(user_input)\n",
    "    summary_result = summarize_text(formatted_input, tokenizer, model)\n",
    "    print(\"\\nGenerated Summary:\", summary_result)\n"
   ]
  },
  {
   "cell_type": "code",
   "execution_count": null,
   "id": "e95224a5",
   "metadata": {},
   "outputs": [],
   "source": []
  }
 ],
 "metadata": {
  "kernelspec": {
   "display_name": "Python 3 (ipykernel)",
   "language": "python",
   "name": "python3"
  },
  "language_info": {
   "codemirror_mode": {
    "name": "ipython",
    "version": 3
   },
   "file_extension": ".py",
   "mimetype": "text/x-python",
   "name": "python",
   "nbconvert_exporter": "python",
   "pygments_lexer": "ipython3",
   "version": "3.11.7"
  }
 },
 "nbformat": 4,
 "nbformat_minor": 5
}
